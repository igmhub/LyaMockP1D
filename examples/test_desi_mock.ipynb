{
 "cells": [
  {
   "cell_type": "markdown",
   "metadata": {
    "deletable": true,
    "editable": true
   },
   "source": [
    "# Lya DESI Mock Example"
   ]
  },
  {
   "cell_type": "code",
   "execution_count": 1,
   "metadata": {
    "collapsed": false,
    "deletable": true,
    "editable": true
   },
   "outputs": [
    {
     "name": "stdout",
     "output_type": "stream",
     "text": [
      "Populating the interactive namespace from numpy and matplotlib\n"
     ]
    }
   ],
   "source": [
    "%pylab inline"
   ]
  },
  {
   "cell_type": "code",
   "execution_count": 2,
   "metadata": {
    "collapsed": true
   },
   "outputs": [],
   "source": [
    "# number of quasars to simulate\n",
    "Nq = 5"
   ]
  },
  {
   "cell_type": "markdown",
   "metadata": {
    "collapsed": true,
    "deletable": true,
    "editable": true
   },
   "source": [
    "#### Get quasar continuum from desisim"
   ]
  },
  {
   "cell_type": "code",
   "execution_count": 3,
   "metadata": {
    "collapsed": false,
    "deletable": true,
    "editable": true
   },
   "outputs": [
    {
     "name": "stdout",
     "output_type": "stream",
     "text": [
      "WARNING:templates.py:1572:__init__: Color-cuts not yet supported for QSOs!\n"
     ]
    },
    {
     "data": {
      "text/html": [
       "&lt;Column name=&apos;REDSHIFT&apos; dtype=&apos;float64&apos; length=5&gt;\n",
       "<table>\n",
       "<tr><td>2.91809699259</td></tr>\n",
       "<tr><td>3.01702608554</td></tr>\n",
       "<tr><td>2.21891626701</td></tr>\n",
       "<tr><td>3.23009716669</td></tr>\n",
       "<tr><td>1.93823530448</td></tr>\n",
       "</table>"
      ],
      "text/plain": [
       "<Column name='REDSHIFT' dtype='float64' length=5>\n",
       "2.91809699259\n",
       "3.01702608554\n",
       "2.21891626701\n",
       "3.23009716669\n",
       "1.93823530448"
      ]
     },
     "execution_count": 3,
     "metadata": {},
     "output_type": "execute_result"
    }
   ],
   "source": [
    "from desisim import templates as dst\n",
    "# Instantiate\n",
    "#reload(dst)\n",
    "qso = dst.QSO()\n",
    "continuum_flux, continuum_wave, metadata = qso.make_templates(nmodel=Nq,seed=123)\n",
    "metadata['REDSHIFT']"
   ]
  },
  {
   "cell_type": "code",
   "execution_count": 4,
   "metadata": {
    "collapsed": false,
    "deletable": true,
    "editable": true,
    "scrolled": true
   },
   "outputs": [
    {
     "data": {
      "text/plain": [
       "(3600, 7000)"
      ]
     },
     "execution_count": 4,
     "metadata": {},
     "output_type": "execute_result"
    },
    {
     "data": {
      "image/png": "[encoded data removed]",
      "text/plain": [
       "<matplotlib.figure.Figure at 0x109850668>"
      ]
     },
     "metadata": {},
     "output_type": "display_data"
    }
   ],
   "source": [
    "plt.plot(continuum_wave,continuum_flux[0])\n",
    "plt.xlim(3600,7000)"
   ]
  },
  {
   "cell_type": "markdown",
   "metadata": {
    "deletable": true,
    "editable": true
   },
   "source": [
    "#### Get random Lya forest skewer"
   ]
  },
  {
   "cell_type": "code",
   "execution_count": 5,
   "metadata": {
    "collapsed": true
   },
   "outputs": [],
   "source": [
    "import lya_mock_p1d as mock\n",
    "mock_maker = mock.MockMaker()\n",
    "skewer_wave, many_skewer_flux = mock_maker.get_lya_skewers(Nq)"
   ]
  },
  {
   "cell_type": "code",
   "execution_count": 6,
   "metadata": {
    "collapsed": true
   },
   "outputs": [],
   "source": [
    "# even though above we have generated Nq skewers, below we'll only use one\n",
    "skewer_flux = many_skewer_flux[0]"
   ]
  },
  {
   "cell_type": "code",
   "execution_count": 7,
   "metadata": {
    "collapsed": false
   },
   "outputs": [
    {
     "name": "stdout",
     "output_type": "stream",
     "text": [
      "zq 2.91809699259\n",
      "lya_zq 4763.11297099\n"
     ]
    }
   ],
   "source": [
    "# only add absorption in the forest \n",
    "zq = metadata['REDSHIFT'].data[0]\n",
    "print('zq',zq)\n",
    "lya_zq = 1215.67 * (1+zq)\n",
    "print('lya_zq',lya_zq)\n",
    "no_forest = (skewer_wave > lya_zq)\n",
    "skewer_flux[no_forest]=1.0    "
   ]
  },
  {
   "cell_type": "code",
   "execution_count": 8,
   "metadata": {
    "collapsed": false,
    "deletable": true,
    "editable": true
   },
   "outputs": [
    {
     "data": {
      "text/plain": [
       "(4400, 5100)"
      ]
     },
     "execution_count": 8,
     "metadata": {},
     "output_type": "execute_result"
    },
    {
     "data": {
      "image/png": "[encoded data removed]",
      "text/plain": [
       "<matplotlib.figure.Figure at 0x119c56828>"
      ]
     },
     "metadata": {},
     "output_type": "display_data"
    }
   ],
   "source": [
    "plt.plot(skewer_wave,skewer_flux)\n",
    "plt.xlim(4400,5100)"
   ]
  },
  {
   "cell_type": "markdown",
   "metadata": {
    "deletable": true,
    "editable": true
   },
   "source": [
    "#### Setup DESI simulator"
   ]
  },
  {
   "cell_type": "code",
   "execution_count": 9,
   "metadata": {
    "collapsed": true,
    "deletable": true,
    "editable": true
   },
   "outputs": [],
   "source": [
    "import astropy.units as u\n",
    "import specsim.simulator\n",
    "desi = specsim.simulator.Simulator('desi', num_fibers=1)\n",
    "# dummy simulation (we haven't passed source spectrum yet)\n",
    "desi.simulate()\n",
    "# get simulated wavelengths\n",
    "wavelengths = desi.simulated['wavelength']\n",
    "Npix = len(wavelengths)"
   ]
  },
  {
   "cell_type": "markdown",
   "metadata": {
    "collapsed": false,
    "deletable": true,
    "editable": true,
    "scrolled": true
   },
   "source": [
    "#### Make DESI simulation with quasar spectrum as source"
   ]
  },
  {
   "cell_type": "code",
   "execution_count": 10,
   "metadata": {
    "collapsed": false,
    "deletable": true,
    "editable": true
   },
   "outputs": [],
   "source": [
    "from desispec.interpolation import resample_flux\n",
    "# interpolate forest transmission to simulation wavelength grid\n",
    "skewer_interp_flux = resample_flux(wavelengths, skewer_wave, skewer_flux)"
   ]
  },
  {
   "cell_type": "code",
   "execution_count": 11,
   "metadata": {
    "collapsed": false,
    "deletable": true,
    "editable": true
   },
   "outputs": [
    {
     "data": {
      "text/plain": [
       "(3600, 6100)"
      ]
     },
     "execution_count": 11,
     "metadata": {},
     "output_type": "execute_result"
    },
    {
     "data": {
      "image/png": "[encoded data removed]",
      "text/plain": [
       "<matplotlib.figure.Figure at 0x1107af128>"
      ]
     },
     "metadata": {},
     "output_type": "display_data"
    }
   ],
   "source": [
    "# interpolate mock quasar continuum to simulation wavelength grid\n",
    "continuum_interp_flux = np.zeros((1,Npix))\n",
    "continuum_interp_flux[0] = resample_flux(wavelengths, continuum_wave, continuum_flux[0]) \n",
    "# multiply quasar continuum by Lya forest skewer\n",
    "mock_quasar_flux = continuum_interp_flux * skewer_interp_flux\n",
    "plt.plot(wavelengths,mock_quasar_flux[0])\n",
    "plt.plot(continuum_wave,continuum_flux[0])\n",
    "\n",
    "plt.xlim(3600,6100)"
   ]
  },
  {
   "cell_type": "code",
   "execution_count": 12,
   "metadata": {
    "collapsed": false,
    "deletable": true,
    "editable": true
   },
   "outputs": [],
   "source": [
    "# specsim uses astropy unities\n",
    "mock_quasar_flux = mock_quasar_flux * u.erg / (u.Angstrom * u.s * u.cm ** 2)\n",
    "# Feed quasar spectrum as source for simulator\n",
    "desi.simulate(source_fluxes=mock_quasar_flux)\n",
    "# generate also random noise\n",
    "desi.generate_random_noise()"
   ]
  },
  {
   "cell_type": "markdown",
   "metadata": {
    "deletable": true,
    "editable": true
   },
   "source": [
    "#### Make plot for each camera"
   ]
  },
  {
   "cell_type": "code",
   "execution_count": 13,
   "metadata": {
    "collapsed": false,
    "deletable": true,
    "editable": true
   },
   "outputs": [
    {
     "data": {
      "image/png": "[encoded data removed]",
      "text/plain": [
       "<matplotlib.figure.Figure at 0x11014d4e0>"
      ]
     },
     "metadata": {},
     "output_type": "display_data"
    }
   ],
   "source": [
    "for output in desi.camera_output:\n",
    "    sim_flux = output['observed_flux'].data\n",
    "    sim_wave = output['wavelength'].data\n",
    "    sim_noise = output['flux_calibration'] * output['random_noise_electrons']\n",
    "    plt.plot(sim_wave,sim_flux[:,0] + sim_noise[:,0])\n",
    "    plt.plot(sim_wave,sim_flux[:,0])    \n",
    "    #plt.xlim(3550,4200)"
   ]
  },
  {
   "cell_type": "code",
   "execution_count": null,
   "metadata": {
    "collapsed": true,
    "deletable": true,
    "editable": true
   },
   "outputs": [],
   "source": []
  }
 ],
 "metadata": {
  "kernelspec": {
   "display_name": "Python 3",
   "language": "python",
   "name": "python3"
  },
  "language_info": {
   "codemirror_mode": {
    "name": "ipython",
    "version": 3
   },
   "file_extension": ".py",
   "mimetype": "text/x-python",
   "name": "python",
   "nbconvert_exporter": "python",
   "pygments_lexer": "ipython3",
   "version": "3.5.3"
  }
 },
 "nbformat": 4,
 "nbformat_minor": 0
}
